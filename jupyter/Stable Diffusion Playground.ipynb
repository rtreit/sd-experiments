{
 "cells": [
  {
   "cell_type": "markdown",
   "id": "aa18dd1a",
   "metadata": {},
   "source": [
    "# Stable Diffusion Playground\n",
    "\n",
    "<img src=\"../images/goose.png\" align=left>"
   ]
  },
  {
   "cell_type": "markdown",
   "id": "ef78c97c",
   "metadata": {},
   "source": [
    "# Import Libraries"
   ]
  },
  {
   "cell_type": "code",
   "execution_count": null,
   "id": "7e71c157",
   "metadata": {},
   "outputs": [],
   "source": [
    "import torch, random, gc\n",
    "from torch import autocast\n",
    "from PIL import Image\n",
    "from io import BytesIO\n",
    "from diffusers import StableDiffusionPipeline, StableDiffusionImg2ImgPipeline\n",
    "model_id = \"CompVis/stable-diffusion-v1-4\"\n",
    "device = \"cuda\""
   ]
  },
  {
   "cell_type": "markdown",
   "id": "08cda1d9",
   "metadata": {},
   "source": [
    "# Define Functions"
   ]
  },
  {
   "cell_type": "code",
   "execution_count": null,
   "id": "03df6973",
   "metadata": {},
   "outputs": [],
   "source": [
    "def clear_gpu():\n",
    "    gc.collect()\n",
    "    torch.cuda.empty_cache()\n",
    "\n",
    "def generate(prompt, seed=None, guidance_scale=7.1, num_inference_steps=50):\n",
    "    prompt = prompt\n",
    "    if seed == None:\n",
    "        seed = random.randint(0, 999999999999999)\n",
    "    print(f\"Seed: {seed}\")\n",
    "    generator = torch.Generator(\"cuda\").manual_seed(seed)\n",
    "    with autocast(\"cuda\"):\n",
    "        image = pipe(prompt, guidance_scale=guidance_scale, num_inference_steps=num_inference_steps, generator=generator)[\"sample\"][0]  \n",
    "    return seed, image\n",
    "\n",
    "def from_image(prompt, init_image, seed=None, strength=0.75, guidance_scale=7.1, num_inference_steps=50):\n",
    "    prompt = prompt\n",
    "    if seed == None:\n",
    "        seed = random.randint(0, 999999999999999)\n",
    "    print(f\"Seed: {seed}\")\n",
    "    generator = torch.Generator(\"cuda\").manual_seed(seed)\n",
    "    with autocast(\"cuda\"):\n",
    "        image = pipe(init_image, prompt, strength=strength, guidance_scale=guidance_scale, num_inference_steps=num_inference_steps, generator=generator)[\"sample\"][0]  \n",
    "    return seed, image"
   ]
  },
  {
   "cell_type": "markdown",
   "id": "c7e04f0f",
   "metadata": {},
   "source": [
    "# Create Image"
   ]
  },
  {
   "cell_type": "code",
   "execution_count": null,
   "id": "4dfd76d6",
   "metadata": {},
   "outputs": [],
   "source": [
    "clear_gpu()"
   ]
  },
  {
   "cell_type": "code",
   "execution_count": null,
   "id": "8b2535a0",
   "metadata": {},
   "outputs": [],
   "source": [
    "pipe = StableDiffusionPipeline.from_pretrained(model_id, use_auth_token=True, revision=\"fp16\", torch_dtype=torch.float16)\n",
    "pipe = pipe.to(device)"
   ]
  },
  {
   "cell_type": "code",
   "execution_count": null,
   "id": "ce4676e9",
   "metadata": {},
   "outputs": [],
   "source": [
    "prompt = \"A burning computer, by Salvador Dali, matte painting trending on artstation HQ\"\n",
    "seed, image = generate(prompt, seed=334627248678436, guidance_scale=7.0, num_inference_steps=50)\n",
    "image"
   ]
  },
  {
   "cell_type": "code",
   "execution_count": null,
   "id": "edce9c3a",
   "metadata": {},
   "outputs": [],
   "source": [
    "image.save(\"input.png\")"
   ]
  },
  {
   "cell_type": "markdown",
   "id": "060bd101",
   "metadata": {},
   "source": [
    "# From Base Image"
   ]
  },
  {
   "cell_type": "code",
   "execution_count": null,
   "id": "53d42764",
   "metadata": {},
   "outputs": [],
   "source": [
    "del pipe\n",
    "clear_gpu()"
   ]
  },
  {
   "cell_type": "code",
   "execution_count": null,
   "id": "722e9749",
   "metadata": {},
   "outputs": [],
   "source": [
    "pipe = StableDiffusionImg2ImgPipeline.from_pretrained(\n",
    "    model_id,\n",
    "    use_auth_token=True,\n",
    "    revision=\"fp16\", \n",
    "    torch_dtype=torch.float16,\n",
    ")\n",
    "pipe = pipe.to(device)"
   ]
  },
  {
   "cell_type": "code",
   "execution_count": null,
   "id": "883e7832",
   "metadata": {},
   "outputs": [],
   "source": [
    "with open('input.png', 'rb') as img_file:\n",
    "    byte_content = img_file.read()\n",
    "init_image = Image.open(BytesIO(byte_content)).convert(\"RGB\")"
   ]
  },
  {
   "cell_type": "code",
   "execution_count": null,
   "id": "3969d062",
   "metadata": {},
   "outputs": [],
   "source": [
    "prompt = \"Artificial intelligence hacker trapped inside a computer writing equations\"\n",
    "seed, image = from_image(init_image, prompt, seed=833456721105365, strength=0.61, guidance_scale=7.1, num_inference_steps=30)\n",
    "image"
   ]
  },
  {
   "cell_type": "code",
   "execution_count": null,
   "id": "24d4997f",
   "metadata": {},
   "outputs": [],
   "source": [
    "prompt = \"A hamburger dinner, oil painting by Jan Van Eyck\"\n",
    "seed, image = from_image(init_image, prompt, seed=seed, strength=0.65, guidance_scale=7.1, num_inference_steps=50)\n",
    "image"
   ]
  },
  {
   "cell_type": "code",
   "execution_count": null,
   "id": "d7105faa",
   "metadata": {},
   "outputs": [],
   "source": [
    "prompt = \"An illustration by Beatrix Potter of two badgers having supper\"\n",
    "seed, image = from_image(init_image, prompt, seed=seed, strength=0.85, guidance_scale=7.5, num_inference_steps=50)\n",
    "image"
   ]
  }
 ],
 "metadata": {
  "kernelspec": {
   "display_name": "Python 3 (ipykernel)",
   "language": "python",
   "name": "python3"
  },
  "language_info": {
   "codemirror_mode": {
    "name": "ipython",
    "version": 3
   },
   "file_extension": ".py",
   "mimetype": "text/x-python",
   "name": "python",
   "nbconvert_exporter": "python",
   "pygments_lexer": "ipython3",
   "version": "3.8.5"
  }
 },
 "nbformat": 4,
 "nbformat_minor": 5
}
